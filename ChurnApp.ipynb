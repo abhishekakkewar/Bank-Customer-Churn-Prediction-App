{
 "cells": [
  {
   "cell_type": "code",
   "execution_count": 12,
   "id": "0ff45fa4",
   "metadata": {},
   "outputs": [],
   "source": [
    "import streamlit as st\n",
    "import pandas as pd\n",
    "import pickle\n",
    "\n",
    "# Load the XGBoost model\n",
    "with open('xgb_model.pickle', 'rb') as file:\n",
    "    xgb_model = pickle.load(file)"
   ]
  },
  {
   "cell_type": "code",
   "execution_count": 13,
   "id": "639e1443",
   "metadata": {},
   "outputs": [],
   "source": [
    "def predict_churn(data):\n",
    "    # Ensure the order and names of columns match the model's expectations\n",
    "    expected_features = ['credit_score', 'country', 'gender', 'age', 'tenure', 'balance',\n",
    "                         'products_number', 'credit_card', 'active_member', 'estimated_salary']\n",
    "    \n",
    "    # Make predictions\n",
    "    predictions = xgb_model.predict(data[expected_features])\n",
    "    \n",
    "    return predictions"
   ]
  },
  {
   "cell_type": "code",
   "execution_count": 14,
   "id": "60a20a28",
   "metadata": {},
   "outputs": [],
   "source": [
    "#df = pd.read_csv('Bank Customer Churn Prediction.csv')\n",
    "# Streamlit App\n",
    "# Streamlit App\n",
    "st.title(\"Customer Churn Prediction\")\n",
    "\n",
    "# Input fields\n",
    "st.write(\"## Enter Customer Data\")\n",
    "credit_score = st.number_input(\"Credit Score\", value=700)\n",
    "country = st.selectbox(\"Country\", options=[0, 1, 2], format_func=lambda x: [\"France\", \"Spain\", \"Germany\"][x])\n",
    "gender = st.selectbox(\"Gender\", options=[0, 1], format_func=lambda x: [\"Male\", \"Female\"][x])\n",
    "age = st.number_input(\"Age\", value=42)\n",
    "tenure = st.number_input(\"Tenure\", value=5)\n",
    "balance = st.number_input(\"Balance\", value=10000.0)\n",
    "products_number = st.number_input(\"Number of Products\", value=2)\n",
    "credit_card = st.selectbox(\"Has Credit Card?\", options=[0, 1])\n",
    "active_member = st.selectbox(\"Active Member?\", options=[0, 1])\n",
    "estimated_salary = st.number_input(\"Estimated Salary\", value=50000.0)\n",
    "\n",
    "# Create a DataFrame from user input\n",
    "user_data = pd.DataFrame({\n",
    "    'credit_score': [credit_score],\n",
    "    'country': [country],\n",
    "    'gender': [gender],\n",
    "    'age': [age],\n",
    "    'tenure': [tenure],\n",
    "    'balance': [balance],\n",
    "    'products_number': [products_number],\n",
    "    'credit_card': [credit_card],\n",
    "    'active_member': [active_member],\n",
    "    'estimated_salary': [estimated_salary]\n",
    "})\n",
    "\n",
    "# Convert data types\n",
    "user_data = user_data.astype({\n",
    "    'credit_score': 'int64',\n",
    "    'country': 'int64',\n",
    "    'gender': 'int64',\n",
    "    'age': 'int64',\n",
    "    'tenure': 'int64',\n",
    "    'balance': 'float64',\n",
    "    'products_number': 'int64',\n",
    "    'credit_card': 'int64',\n",
    "    'active_member': 'int64',\n",
    "    'estimated_salary': 'float64'\n",
    "})\n",
    "\n",
    "# Predict churn\n",
    "if st.button(\"Predict Churn\"):\n",
    "    prediction = predict_churn(user_data)\n",
    "    if prediction[0] == 1:\n",
    "        st.write(\"Prediction: Customer will not be retained\")\n",
    "    else:\n",
    "        st.write(\"Prediction: Customer will be retained\")\n"
   ]
  },
  {
   "cell_type": "code",
   "execution_count": null,
   "id": "35cfa3fa",
   "metadata": {},
   "outputs": [],
   "source": []
  }
 ],
 "metadata": {
  "kernelspec": {
   "display_name": "Python 3 (ipykernel)",
   "language": "python",
   "name": "python3"
  },
  "language_info": {
   "codemirror_mode": {
    "name": "ipython",
    "version": 3
   },
   "file_extension": ".py",
   "mimetype": "text/x-python",
   "name": "python",
   "nbconvert_exporter": "python",
   "pygments_lexer": "ipython3",
   "version": "3.10.9"
  }
 },
 "nbformat": 4,
 "nbformat_minor": 5
}
